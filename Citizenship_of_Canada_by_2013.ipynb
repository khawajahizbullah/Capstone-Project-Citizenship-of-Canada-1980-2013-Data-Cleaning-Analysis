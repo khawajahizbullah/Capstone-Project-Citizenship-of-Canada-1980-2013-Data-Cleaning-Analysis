{
  "nbformat": 4,
  "nbformat_minor": 0,
  "metadata": {
    "colab": {
      "provenance": []
    },
    "kernelspec": {
      "name": "python3",
      "display_name": "Python 3"
    },
    "language_info": {
      "name": "python"
    }
  },
  "cells": [
    {
      "cell_type": "code",
      "execution_count": 34,
      "metadata": {
        "id": "xx3aPLxsXYqH",
        "colab": {
          "base_uri": "https://localhost:8080/"
        },
        "outputId": "a141a439-a031-4165-c370-0feca40e1489"
      },
      "outputs": [
        {
          "output_type": "stream",
          "name": "stdout",
          "text": [
            "         Type    Coverage          OdName  AREA AreaName   REG  \\\n",
            "0  Immigrants  Foreigners     Afghanistan   935     Asia  5501   \n",
            "1  Immigrants  Foreigners         Albania   908   Europe   925   \n",
            "2  Immigrants  Foreigners         Algeria   903   Africa   912   \n",
            "3  Immigrants  Foreigners  American Samoa   909  Oceania   957   \n",
            "4  Immigrants  Foreigners         Andorra   908   Europe   925   \n",
            "\n",
            "           RegName  DEV             DevName    Year_1980  ...    Year_2004  \\\n",
            "0    Southern Asia  902  Developing regions    16.000000  ...  2978.000000   \n",
            "1  Southern Europe  901   Developed regions     1.000000  ...  1450.000000   \n",
            "2  Northern Africa  902  Developing regions    80.000000  ...  3616.000000   \n",
            "3        Polynesia  902  Developing regions  -990.000000  ...  2549.427027   \n",
            "4  Southern Europe  901   Developed regions  2052.402878  ...  2549.427027   \n",
            "\n",
            "     Year_2005  Year_2006    Year_2007  Year_2008    Year_2009    Year_2010  \\\n",
            "0  3436.000000     3009.0  2652.000000     2111.0  1746.000000  1758.000000   \n",
            "1  1223.000000      856.0   702.000000      560.0   716.000000   561.000000   \n",
            "2  3626.000000     4807.0  3623.000000     4005.0  5393.000000  4752.000000   \n",
            "3  2835.048649        1.0  2545.731183        inf  2711.505376  3034.454054   \n",
            "4  2835.048649        1.0     1.000000        inf  2711.505376  3034.454054   \n",
            "\n",
            "     Year_2011    Year_2012    Year_2013  \n",
            "0  2203.000000  2635.000000  2004.000000  \n",
            "1   539.000000   620.000000   603.000000  \n",
            "2  4325.000000  3774.000000  4331.000000  \n",
            "3  2689.167568  2773.150538  2785.172043  \n",
            "4  2689.167568     1.000000     1.000000  \n",
            "\n",
            "[5 rows x 43 columns]\n",
            "Type         0\n",
            "Coverage     0\n",
            "OdName       0\n",
            "AREA         0\n",
            "AreaName     0\n",
            "REG          0\n",
            "RegName      0\n",
            "DEV          0\n",
            "DevName      0\n",
            "Year_1980    0\n",
            "Year_1981    0\n",
            "Year_1982    0\n",
            "Year_1983    0\n",
            "Year_1984    0\n",
            "Year_1985    0\n",
            "Year_1986    0\n",
            "Year_1987    0\n",
            "Year_1988    0\n",
            "Year_1989    0\n",
            "Year_1990    0\n",
            "Year_1991    0\n",
            "Year_1992    0\n",
            "Year_1993    0\n",
            "Year_1994    0\n",
            "Year_1995    0\n",
            "Year_1996    0\n",
            "Year_1997    0\n",
            "Year_1998    0\n",
            "Year_1999    0\n",
            "Year_2000    0\n",
            "Year_2001    0\n",
            "Year_2002    0\n",
            "Year_2003    0\n",
            "Year_2004    0\n",
            "Year_2005    0\n",
            "Year_2006    0\n",
            "Year_2007    0\n",
            "Year_2008    0\n",
            "Year_2009    0\n",
            "Year_2010    0\n",
            "Year_2011    0\n",
            "Year_2012    0\n",
            "Year_2013    0\n",
            "dtype: int64\n",
            "The Cleaned File Of Citizenship of Canada by 2013.xlsx Is Ready Now\n"
          ]
        }
      ],
      "source": [
        "import pandas as pd\n",
        "import numpy as np\n",
        "\n",
        "df = pd.read_excel('Citizenship of Canada by 2013.xlsx')\n",
        "#Loading Data\n",
        "print(df.head())\n",
        "#Finding Missing Values\n",
        "print(df.isnull().sum())\n",
        "#Replacing Missing Values\n",
        "columns_to_replace = [f\"Year_{y}\" for y in range(1980, 2014)]\n",
        "\n",
        "# Convert to numeric (just in case)\n",
        "df[columns_to_replace] = df[columns_to_replace].apply(pd.to_numeric, errors=\"coerce\")\n",
        "\n",
        "# Convert zeros → NaN\n",
        "df[columns_to_replace] = df[columns_to_replace].replace(0, np.nan)\n",
        "\n",
        "# Replace inf and -inf with NaN\n",
        "df = df.replace([np.inf, -np.inf], np.nan)\n",
        "\n",
        "# Fill NaN with column mean (numeric columns only)\n",
        "df = df.fillna(df.mean(numeric_only=True))\n",
        "\n",
        "# Fill NaN with column mean\n",
        "df[columns_to_replace] = df[columns_to_replace].apply(lambda col: col.fillna(col.mean()))\n",
        "\n",
        "#Replace Negative Values\n",
        "\n",
        "# Generate column names dynamically\n",
        "Neg_Values = [f\"Year_{y}\" for y in range(1980, 2014)]\n",
        "\n",
        "# Replace negative values with column mean\n",
        "df[Neg_Values] = df[Neg_Values].apply(lambda col: np.where(col < 0, col[col >= 0].mean(), col))\n",
        "\n",
        "df.to_excel('Cleaned Citizenship of Canada by 2013 New.xlsx', index=False)\n",
        "\n",
        "print(\"The Cleaned File Of Citizenship of Canada by 2013.xlsx Is Ready Now\")"
      ]
    },
    {
      "cell_type": "code",
      "source": [],
      "metadata": {
        "id": "iFZkK0e2aFxp"
      },
      "execution_count": null,
      "outputs": []
    }
  ]
}